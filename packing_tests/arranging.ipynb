{
 "cells": [
  {
   "cell_type": "code",
   "execution_count": 9,
   "metadata": {},
   "outputs": [],
   "source": [
    "from math import ceil\n",
    "\n",
    "from matplotlib import pyplot as plt\n",
    "from matplotlib.patches import Rectangle as rectangle\n",
    "import matplotlib.image as mpimg\n",
    "import numpy as np\n",
    "import pandas as pd\n",
    "from rectpack import newPacker, PackingBin"
   ]
  },
  {
   "cell_type": "code",
   "execution_count": 10,
   "metadata": {},
   "outputs": [],
   "source": [
    "rectangles = []\n",
    "area = 0\n",
    "for i in range(10):\n",
    "    height = np.random.randint(2, 5)\n",
    "    rectangles.append((height, height))\n",
    "    area += height**2\n",
    "bins = [(12, ceil(area/12))]\n",
    "\n",
    "packer = newPacker(bin_algo=PackingBin.BBF)\n",
    "\n",
    "# Add the rectangles to packing queue\n",
    "for r in rectangles:\n",
    "    packer.add_rect(*r)\n",
    "\n",
    "# Add the bins where the rectangles will be placed\n",
    "for b in bins:\n",
    "    packer.add_bin(*b)\n",
    "\n",
    "# Start packing\n",
    "packer.pack()"
   ]
  },
  {
   "cell_type": "code",
   "execution_count": 8,
   "metadata": {},
   "outputs": [
    {
     "data": {
      "text/plain": [
       "<matplotlib.image.AxesImage at 0x7fd53614f240>"
      ]
     },
     "execution_count": 8,
     "metadata": {},
     "output_type": "execute_result"
    },
    {
     "data": {
      "image/png": "[encoded data removed]",
      "text/plain": [
       "<Figure size 432x288 with 1 Axes>"
      ]
     },
     "metadata": {
      "needs_background": "light"
     },
     "output_type": "display_data"
    }
   ],
   "source": [
    "img = mpimg.imread('Cost of Living Index_Climate Index.png')\n",
    "plt.imshow(img)"
   ]
  },
  {
   "cell_type": "code",
   "execution_count": 11,
   "metadata": {},
   "outputs": [
    {
     "data": {
      "image/png": "[encoded data removed]",
      "text/plain": [
       "<Figure size 864x648 with 1 Axes>"
      ]
     },
     "metadata": {
      "needs_background": "light"
     },
     "output_type": "display_data"
    }
   ],
   "source": [
    "fig, ax = plt.subplots(1, figsize=bins[0])\n",
    "ax.set_xlim([0, bins[0][0]])\n",
    "ax.set_ylim([0, bins[0][1]])\n",
    "for rect in packer[0]:\n",
    "    ax.add_patch(rectangle((rect.x, rect.y), rect.height, rect.width, alpha=1))\n",
    "    ax.add_patch(rectangle((rect.x, rect.y), rect.height, rect.width, fill=None, alpha=1))\n",
    "plt.show()"
   ]
  },
  {
   "cell_type": "code",
   "execution_count": null,
   "metadata": {},
   "outputs": [],
   "source": []
  },
  {
   "cell_type": "code",
   "execution_count": null,
   "metadata": {},
   "outputs": [],
   "source": []
  }
 ],
 "metadata": {
  "kernelspec": {
   "display_name": "visard",
   "language": "python",
   "name": "visard"
  },
  "language_info": {
   "codemirror_mode": {
    "name": "ipython",
    "version": 3
   },
   "file_extension": ".py",
   "mimetype": "text/x-python",
   "name": "python",
   "nbconvert_exporter": "python",
   "pygments_lexer": "ipython3",
   "version": "3.6.7"
  }
 },
 "nbformat": 4,
 "nbformat_minor": 2
}
