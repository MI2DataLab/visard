{
 "cells": [
  {
   "cell_type": "code",
   "execution_count": 39,
   "metadata": {},
   "outputs": [],
   "source": [
    "import pandas as pd\n",
    "import numpy as np\n",
    "from matplotlib import pyplot as plt\n",
    "from statsmodels.graphics.mosaicplot import mosaic\n",
    "import seaborn as sns\n",
    "from scipy.stats import entropy\n",
    "from sklearn.metrics import mutual_info_score\n",
    "%matplotlib inline"
   ]
  },
  {
   "cell_type": "code",
   "execution_count": 2,
   "metadata": {},
   "outputs": [],
   "source": [
    "cols = [\n",
    "    'Country',\n",
    "    'Quality of Life Index',\n",
    "    'Purchasing Power Index',\n",
    "    'Safety Index',\n",
    "    'Health Care Index',\n",
    "    'Cost of Living Index',\n",
    "    'Property Price to Income Ratio',\n",
    "    'Traffic Commute Time Index',\n",
    "    'Pollution Index',\n",
    "    'Climate Index',\n",
    "]\n",
    "\n",
    "data = pd.read_csv('country_data.csv', '\\t', header=None).set_index(0)\n",
    "data.columns = cols"
   ]
  },
  {
   "cell_type": "code",
   "execution_count": 40,
   "metadata": {},
   "outputs": [],
   "source": [
    "def calc_MI(x, y, bins):\n",
    "    c_xy = np.histogram2d(x, y, bins)[0]\n",
    "    mi = mutual_info_score(None, None, contingency=c_xy)\n",
    "    return mi\n",
    "\n",
    "def calc_entropy(x, bins):\n",
    "    hist = np.histogram(x, bins)[0]\n",
    "#     print(hist)\n",
    "    ent = entropy(hist)\n",
    "    return ent"
   ]
  },
  {
   "cell_type": "code",
   "execution_count": 58,
   "metadata": {},
   "outputs": [],
   "source": [
    "importance_two = dict()\n",
    "max_mi = 0\n",
    "min_mi = 2*10**9\n",
    "cols = data.columns\n",
    "for i, col1 in enumerate(cols[1:]):\n",
    "    for col2 in cols[i+1:]:\n",
    "        if col1 != col2:\n",
    "            mi = calc_MI(data[col1], data[col2], 20)\n",
    "            if max_mi < mi: \n",
    "                max_mi = mi\n",
    "            if min_mi > mi:\n",
    "                min_mi = mi\n",
    "            importance_two[(col1, col2)] = calc_MI(data[col1], data[col2], 20)\n",
    "importance_two = {key: (mi - min_mi)/(max_mi - min_mi) for key, mi in importance_two.items()}"
   ]
  },
  {
   "cell_type": "code",
   "execution_count": 59,
   "metadata": {},
   "outputs": [],
   "source": [
    "importance_one = dict()\n",
    "max_entropy = 0\n",
    "min_entropy = 2*10**9\n",
    "for col in data.columns[1:]:\n",
    "    ent = calc_entropy(data[col], 20)\n",
    "    if max_entropy < ent:\n",
    "        max_entropy = ent\n",
    "    if min_entropy > ent:\n",
    "        min_entropy = ent\n",
    "    importance_one[(col, )] = ent\n",
    "importance_one = {key: (ent - min_entropy)/(max_entropy - min_entropy) for key, ent in importance_one.items()}"
   ]
  },
  {
   "cell_type": "code",
   "execution_count": 60,
   "metadata": {},
   "outputs": [],
   "source": [
    "importance = {**importance_one, **importance_two}"
   ]
  },
  {
   "cell_type": "code",
   "execution_count": 61,
   "metadata": {},
   "outputs": [],
   "source": [
    "importance = [(k, importance[k]) for k in sorted(importance, key=importance.get, reverse=True)]"
   ]
  },
  {
   "cell_type": "code",
   "execution_count": 62,
   "metadata": {},
   "outputs": [],
   "source": [
    "with open('importance', 'w') as f:\n",
    "    f.write(str(importance))"
   ]
  }
 ],
 "metadata": {
  "kernelspec": {
   "display_name": "visard",
   "language": "python",
   "name": "visard"
  },
  "language_info": {
   "codemirror_mode": {
    "name": "ipython",
    "version": 3
   },
   "file_extension": ".py",
   "mimetype": "text/x-python",
   "name": "python",
   "nbconvert_exporter": "python",
   "pygments_lexer": "ipython3",
   "version": "3.6.7"
  }
 },
 "nbformat": 4,
 "nbformat_minor": 2
}
